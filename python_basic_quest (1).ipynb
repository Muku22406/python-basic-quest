{
  "nbformat": 4,
  "nbformat_minor": 0,
  "metadata": {
    "colab": {
      "provenance": []
    },
    "kernelspec": {
      "name": "python3",
      "display_name": "Python 3"
    },
    "language_info": {
      "name": "python"
    }
  },
  "cells": [
    {
      "cell_type": "markdown",
      "source": [
        "###Basic Python Questions\n"
      ],
      "metadata": {
        "id": "2QdidXZ5jaR7"
      }
    },
    {
      "cell_type": "markdown",
      "source": [
        "1. What is Python, and why is it popular?\n",
        " - Python is a popular, easy-to-learn programming language known for its simple and clear syntax. It's used for many things like web development, data analysis, and artificial intelligence. People like it because it's beginner-friendly, has a large community, and can be used on any computer. Its wide range of libraries and tools make it perfect for various tasks, from building websites to analyzing data."
      ],
      "metadata": {
        "id": "b-kAQ03xjg7S"
      }
    },
    {
      "cell_type": "markdown",
      "source": [
        "2. What is an interpreter in Python?\n",
        " - An interpreter in Python is a program that reads and executes Python code line by line. Instead of converting the whole code into machine language at once (like a compiler), an interpreter processes the code one statement at a time and immediately runs it.\n",
        "\n",
        "This allows for easy debugging and quick testing, but it can be slower than compiled languages. Python's interpreter also helps make Python code more portable across different platforms since it directly runs the code without needing to create a separate machine-specific file."
      ],
      "metadata": {
        "id": "StDhTsRmkVvJ"
      }
    },
    {
      "cell_type": "markdown",
      "source": [
        "3. What are pre-defined keywords in Python?\n",
        " - Pre-defined keywords in Python are special words that the language uses for specific tasks, and you can't use them as names for variables or functions. They help control the program, like making decisions or defining functions.\n",
        "\n",
        "For example:\n",
        "- `if`, `else`: Used for decision-making.\n",
        "- `for`, `while`: Used for loops.\n",
        "- `def`: Used to define a function.\n",
        "- `class`: Used to define a class.\n",
        "\n",
        "\n"
      ],
      "metadata": {
        "id": "j5Q1nmQEksrB"
      }
    },
    {
      "cell_type": "markdown",
      "source": [
        "4. Can keywords be used as variable names?\n",
        " - No, keywords in Python cannot be used as variable names. Since keywords have special meanings in the language, using them as variable names would cause errors in your code."
      ],
      "metadata": {
        "id": "ToUPXyMWlG26"
      }
    },
    {
      "cell_type": "markdown",
      "source": [
        "5. What is mutability in Python?\n",
        " - Mutability in Python means whether or not you can change an object after it's created.\n",
        "\n",
        "Mutable objects can be changed. For example, you can change items in a list"
      ],
      "metadata": {
        "id": "tcYF14mPlVWy"
      }
    },
    {
      "cell_type": "code",
      "source": [
        "my_list = [1, 2, 3]\n",
        "my_list[0] = 10  # You can change the value of the list\n"
      ],
      "metadata": {
        "id": "MKkUighmlmR5"
      },
      "execution_count": null,
      "outputs": []
    },
    {
      "cell_type": "markdown",
      "source": [
        "- Immutable objects cannot be changed. For example, you can't change a string or a tuple once they're created."
      ],
      "metadata": {
        "id": "RGmMaMrRlwHB"
      }
    },
    {
      "cell_type": "code",
      "source": [
        "my_string = \"hello\"\n",
        "my_string[0] = \"H\"  # This will give an error\n"
      ],
      "metadata": {
        "id": "ZWh_eeItmAsx"
      },
      "execution_count": null,
      "outputs": []
    },
    {
      "cell_type": "markdown",
      "source": [
        "6. Why are lists mutable, but tuples are immutable?\n",
        " - Lists are **mutable** because you might need to change them, like adding, removing, or changing items.\n",
        "\n",
        "Tuples are **immutable** because they are meant to stay the same and protect data from being changed accidentally. This also helps with performance.\n",
        "\n",
        "So, **lists** can be changed, while **tuples** cannot."
      ],
      "metadata": {
        "id": "zpFxSn4KmCZh"
      }
    },
    {
      "cell_type": "markdown",
      "source": [
        "7.  What is the difference between “==” and “is” operators in Python?\n",
        " - In Python, the == and is operators are used for comparison, but they serve different purposes:\n",
        "\n",
        "- == (Equality Operator):\n",
        "It checks if the values of two objects are the same.\n",
        "It compares the content or data of the objects.\n",
        "Example:"
      ],
      "metadata": {
        "id": "96fp33OPmZqR"
      }
    },
    {
      "cell_type": "code",
      "source": [
        "x = [1, 2, 3]\n",
        "y = [1, 2, 3]\n",
        "print(x == y)  # True, because the values in both lists are the same\n"
      ],
      "metadata": {
        "colab": {
          "base_uri": "https://localhost:8080/"
        },
        "id": "XtR_a5tZmlbJ",
        "outputId": "49fb1c19-772c-4c75-f444-db1693f160b0"
      },
      "execution_count": null,
      "outputs": [
        {
          "output_type": "stream",
          "name": "stdout",
          "text": [
            "True\n"
          ]
        }
      ]
    },
    {
      "cell_type": "markdown",
      "source": [
        "-  is (Identity Operator):\n",
        "It checks if two variables refer to the same object in memory (i.e., they are the same object).\n",
        "It compares the memory location (identity) of the objects.\n",
        "Example:"
      ],
      "metadata": {
        "id": "SHnCyTd-mnvo"
      }
    },
    {
      "cell_type": "code",
      "source": [
        "x = [1, 2, 3]\n",
        "y = [1, 2, 3]\n",
        "print(x is y)  # False, because x and y are different objects in memory\n"
      ],
      "metadata": {
        "colab": {
          "base_uri": "https://localhost:8080/"
        },
        "id": "FzmMqNIbmrK6",
        "outputId": "37a43c58-7e75-4b7d-f8a9-8ebde774d97d"
      },
      "execution_count": null,
      "outputs": [
        {
          "output_type": "stream",
          "name": "stdout",
          "text": [
            "False\n"
          ]
        }
      ]
    },
    {
      "cell_type": "markdown",
      "source": [
        "8. What are logical operators in Python?\n",
        " - Logical operators in Python are used to combine multiple conditions and perform logical comparisons. The three main logical operators are:\n",
        "\n",
        "-  **`and`**: This operator returns `True` only if **both** conditions are `True`. If either condition is `False`, it returns `False`.\n",
        "\n",
        "-  **`or`**: This operator returns `True` if **at least one** of the conditions is `True`. It returns `False` only when **both** conditions are `False`.\n",
        "\n",
        "-  **`not`**: This operator is used to reverse the boolean value of a condition. If a condition is `True`, `not` makes it `False`, and if the condition is `False`, `not` makes it `True`.\n",
        "\n",
        "These logical operators allow you to create more complex conditions for decision-making in your code."
      ],
      "metadata": {
        "id": "tczXxiFrm-LI"
      }
    },
    {
      "cell_type": "markdown",
      "source": [
        "9. What is type casting in Python?\n",
        "\n",
        "  **Type casting** in Python is the process of converting one data type into another. There are two types of type casting:\n",
        "\n",
        "-  **Implicit Type Casting (Automatic)**: This occurs when Python automatically converts a smaller data type to a larger data type. It happens when the operation requires a higher data type, and Python handles the conversion internally without the programmer needing to do anything.\n",
        "\n",
        "-  **Explicit Type Casting (Manual)**: This involves the programmer explicitly converting a variable from one type to another using built-in functions such as `int()`, `float()`, or `str()`. This allows the programmer to control the type conversion process.\n",
        "\n",
        "\n",
        "\n",
        "    "
      ],
      "metadata": {
        "id": "dNDR69QeoOth"
      }
    },
    {
      "cell_type": "markdown",
      "source": [
        "10. What is the difference between implicit and explicit type casting?\n",
        "\n",
        "  **Implicit Type Casting** and **Explicit Type Casting** are two ways to convert data from one type to another in Python:\n",
        "\n",
        "- **Implicit Type Casting** (Automatic):\n",
        "   - It is done automatically by Python.\n",
        "   - Happens when Python automatically converts a smaller data type to a larger one, without the programmer's involvement.\n",
        "   - Example: Converting an integer to a float when doing arithmetic with a float.\n",
        "\n",
        "-  **Explicit Type Casting** (Manual):\n",
        "   - The programmer manually converts one data type to another.\n",
        "   - Uses functions like `int()`, `float()`, or `str()` to change the type.\n",
        "   - Example: Converting a string to an integer using `int()`."
      ],
      "metadata": {
        "id": "zLMhMM4go7_g"
      }
    },
    {
      "cell_type": "markdown",
      "source": [
        "11. What is the purpose of conditional statements in Python?\n",
        "\n",
        "  **Conditional statements** in Python are used to make decisions in a program. They allow the program to choose which actions to perform based on whether a condition is **True** or **False**.\n",
        "\n",
        "They help control the flow of the program by executing different blocks of code depending on certain conditions.\n",
        "\n",
        "The main types of conditional statements are:\n",
        "- **`if`**: Executes a block of code if a condition is True.\n",
        "- **`elif`**: Checks another condition if the previous `if` is False.\n",
        "- **`else`**: Executes a block of code if all previous conditions are False."
      ],
      "metadata": {
        "id": "q97XuBPDpuCA"
      }
    },
    {
      "cell_type": "markdown",
      "source": [
        "12. How does the elif statement work?\n",
        " - The **`elif`** statement in Python allows you to check multiple conditions. It comes after an **`if`** statement and is used when you want to test another condition if the **`if`** condition is **False**. If the **`elif`** condition is **True**, its associated block of code will run. If none of the conditions are **True**, the **`else`** block (if present) will run."
      ],
      "metadata": {
        "id": "02avqJJSqPxI"
      }
    },
    {
      "cell_type": "markdown",
      "source": [
        "13. What is the difference between for and while loops?\n",
        "\n",
        "### **For Loop**:\n",
        "- A **for loop** is used when you know the exact number of iterations or have a collection (like an array or list) to iterate over. The loop iterates a specific number of times or until a condition is met based on a predefined sequence or range.\n",
        "- In a **for loop**, the loop variable is often initialized, a condition is checked, and it typically increments or decrements after each iteration.\n",
        "- It is commonly used when the range or collection to loop over is already known.\n",
        "\n",
        "**Example:**\n",
        "- If you want to perform an action for a set number of times, such as printing a message 5 times, a **for loop** is ideal.\n",
        "\n",
        "### **While Loop**:\n",
        "- A **while loop** is used when you don't know in advance how many times the loop will run, and instead, the loop continues running until a specific condition is no longer true. The condition is checked before each iteration, and the loop will continue executing as long as the condition remains true.\n",
        "- A **while loop** is ideal when the number of iterations is uncertain or depends on a changing condition that might not be known at the beginning.\n",
        "\n",
        "**Example:**\n",
        "- If you are checking for a specific condition (e.g., a value in a variable) and want the loop to run until that condition is satisfied, a **while loop** is appropriate.\n",
        "\n"
      ],
      "metadata": {
        "id": "v-IurODHqng6"
      }
    },
    {
      "cell_type": "markdown",
      "source": [
        "14. Describe a scenario where a while loop is more suitable than a for loop.?\n",
        "- A **while loop** is more suitable than a **for loop** in scenarios where the number of iterations is **not predetermined** and **depends on a dynamic condition** that may change during the loop's execution. In these cases, you can't determine in advance how many times the loop will run because the loop’s continuation is governed by a condition that might only be known or evaluated during execution.\n",
        "\n",
        "### Key Points:\n",
        "- A **while loop** continues to execute as long as a specified condition remains true.\n",
        "- It is ideal for scenarios where the termination condition is dependent on an external factor or a variable that evolves throughout the loop’s execution.\n",
        "- A **for loop**, in contrast, is generally used when the number of iterations is known before the loop starts (e.g., iterating over a range or collection), making it less suitable for cases with unknown or changing iteration counts.\n",
        "\n",
        "### Example Scenario: **Waiting for a Condition to be Met**\n",
        "\n",
        "Consider a scenario where a program is checking for a condition that is met based on external factors (such as waiting for a sensor to reach a specific value or a user to enter valid input). Since the exact number of checks is unknown and dependent on when the condition is finally met, a **while loop** is more appropriate. The loop will continue to run until the condition is satisfied, and you cannot predetermine how many iterations will be required.\n",
        "\n",
        "In summary, a **while loop** is preferred when the number of iterations is uncertain and depends on a condition that evolves over time."
      ],
      "metadata": {
        "id": "ft9NJhVP70O4"
      }
    },
    {
      "cell_type": "markdown",
      "source": [
        "###Practical Questions"
      ],
      "metadata": {
        "id": "uYHjIHF_8g4X"
      }
    },
    {
      "cell_type": "markdown",
      "source": [
        "1. Write a Python program to print \"Hello, World!_\n"
      ],
      "metadata": {
        "id": "gdBLS6zE8r0P"
      }
    },
    {
      "cell_type": "code",
      "source": [
        "print(\"Hello, World!\")\n"
      ],
      "metadata": {
        "colab": {
          "base_uri": "https://localhost:8080/"
        },
        "id": "rXDIr9V_8xLu",
        "outputId": "9bd8b186-8145-419a-c60f-7a48f4304b02"
      },
      "execution_count": 2,
      "outputs": [
        {
          "output_type": "stream",
          "name": "stdout",
          "text": [
            "Hello, World!\n"
          ]
        }
      ]
    },
    {
      "cell_type": "markdown",
      "source": [
        "2. Write a Python program that displays your name and age."
      ],
      "metadata": {
        "id": "rxp5-DzJ80tv"
      }
    },
    {
      "cell_type": "code",
      "source": [
        "# Define name and age\n",
        "name = \"Mukul\"  # Replace with your actual name\n",
        "age = 25  # Replace with your actual age\n",
        "\n",
        "# Display name and age\n",
        "print(\"Name:\", name)\n",
        "print(\"Age:\", age)\n"
      ],
      "metadata": {
        "colab": {
          "base_uri": "https://localhost:8080/"
        },
        "id": "SISOUaq8857H",
        "outputId": "3c31e234-e8a0-4a12-a0f7-5166d1597750"
      },
      "execution_count": 3,
      "outputs": [
        {
          "output_type": "stream",
          "name": "stdout",
          "text": [
            "Name: Mukul\n",
            "Age: 25\n"
          ]
        }
      ]
    },
    {
      "cell_type": "markdown",
      "source": [
        "3. Write code to print all the pre-defined keywords in Python using the keyword library."
      ],
      "metadata": {
        "id": "n3FEAPS59Cs-"
      }
    },
    {
      "cell_type": "code",
      "source": [
        "import keyword\n",
        "\n",
        "# Print all the keywords in Python\n",
        "print(\"Python keywords are:\")\n",
        "print(keyword.kwlist)\n"
      ],
      "metadata": {
        "colab": {
          "base_uri": "https://localhost:8080/"
        },
        "id": "9K0xmz7x9Ivm",
        "outputId": "372f99aa-728d-45f2-bedd-2b809a9c018c"
      },
      "execution_count": 4,
      "outputs": [
        {
          "output_type": "stream",
          "name": "stdout",
          "text": [
            "Python keywords are:\n",
            "['False', 'None', 'True', 'and', 'as', 'assert', 'async', 'await', 'break', 'class', 'continue', 'def', 'del', 'elif', 'else', 'except', 'finally', 'for', 'from', 'global', 'if', 'import', 'in', 'is', 'lambda', 'nonlocal', 'not', 'or', 'pass', 'raise', 'return', 'try', 'while', 'with', 'yield']\n"
          ]
        }
      ]
    },
    {
      "cell_type": "markdown",
      "source": [
        "4. Write a program that checks if a given word is a Python keyword."
      ],
      "metadata": {
        "id": "e84H3wR49MMW"
      }
    },
    {
      "cell_type": "code",
      "source": [
        "import keyword\n",
        "\n",
        "# Get the word from the user\n",
        "word = input(\"Enter a word: \")\n",
        "\n",
        "# Check if the word is a Python keyword\n",
        "if keyword.iskeyword(word):\n",
        "    print(f\"'{word}' is a Python keyword.\")\n",
        "else:\n",
        "    print(f\"'{word}' is not a Python keyword.\")\n"
      ],
      "metadata": {
        "id": "2DfXhVxUAXyG"
      },
      "execution_count": null,
      "outputs": []
    },
    {
      "cell_type": "markdown",
      "source": [
        "5. Create a list and tuple in Python, and demonstrate how attempting to change an element works differently\n",
        "for each."
      ],
      "metadata": {
        "id": "sp8nETCL_9fn"
      }
    },
    {
      "cell_type": "code",
      "source": [
        "# Creating a list\n",
        "my_list = [10, 20, 30, 40, 50]\n",
        "\n",
        "# Attempting to change an element in the list\n",
        "print(\"Original list:\", my_list)\n",
        "my_list[2] = 100  # Changing the 3rd element (index 2) to 100\n",
        "print(\"Modified list:\", my_list)\n",
        "\n",
        "# Creating a tuple\n",
        "my_tuple = (10, 20, 30, 40, 50)\n",
        "\n",
        "# Attempting to change an element in the tuple\n",
        "print(\"\\nOriginal tuple:\", my_tuple)\n",
        "try:\n",
        "    my_tuple[2] = 100  # This will raise an error because tuples are immutable\n",
        "except TypeError as e:\n",
        "    print(\"Error:\", e)\n"
      ],
      "metadata": {
        "colab": {
          "base_uri": "https://localhost:8080/"
        },
        "id": "uXxF9LQ-AveF",
        "outputId": "cdf75ca1-fe50-432a-9b14-0e7e9575acc2"
      },
      "execution_count": 8,
      "outputs": [
        {
          "output_type": "stream",
          "name": "stdout",
          "text": [
            "Original list: [10, 20, 30, 40, 50]\n",
            "Modified list: [10, 20, 100, 40, 50]\n",
            "\n",
            "Original tuple: (10, 20, 30, 40, 50)\n",
            "Error: 'tuple' object does not support item assignment\n"
          ]
        }
      ]
    },
    {
      "cell_type": "markdown",
      "source": [
        "6. Write a function to demonstrate the behavior of mutable and immutable arguments."
      ],
      "metadata": {
        "id": "Ax37LqgzAxz1"
      }
    },
    {
      "cell_type": "code",
      "source": [
        "def demonstrate_mutability_immutability(mutable_arg, immutable_arg):\n",
        "    # Modifying the mutable argument (list)\n",
        "    mutable_arg.append(100)\n",
        "    print(\"Modified mutable argument (list):\", mutable_arg)\n",
        "\n",
        "    # Modifying the immutable argument (integer)\n",
        "    immutable_arg += 10\n",
        "    print(\"Modified immutable argument (integer):\", immutable_arg)\n",
        "\n",
        "# Testing with mutable and immutable arguments\n",
        "my_list = [1, 2, 3]\n",
        "my_int = 5\n",
        "\n",
        "print(\"Before calling the function:\")\n",
        "print(\"Original list:\", my_list)\n",
        "print(\"Original integer:\", my_int)\n",
        "\n",
        "demonstrate_mutability_immutability(my_list, my_int)\n",
        "\n",
        "print(\"\\nAfter calling the function:\")\n",
        "print(\"Modified list:\", my_list)  # List should be modified\n",
        "print(\"Original integer:\", my_int)  # Integer should remain the same\n"
      ],
      "metadata": {
        "colab": {
          "base_uri": "https://localhost:8080/"
        },
        "id": "0cVqImM8A-Hd",
        "outputId": "b5b5f73f-5aba-4370-979b-373017704324"
      },
      "execution_count": 9,
      "outputs": [
        {
          "output_type": "stream",
          "name": "stdout",
          "text": [
            "Before calling the function:\n",
            "Original list: [1, 2, 3]\n",
            "Original integer: 5\n",
            "Modified mutable argument (list): [1, 2, 3, 100]\n",
            "Modified immutable argument (integer): 15\n",
            "\n",
            "After calling the function:\n",
            "Modified list: [1, 2, 3, 100]\n",
            "Original integer: 5\n"
          ]
        }
      ]
    },
    {
      "cell_type": "markdown",
      "source": [
        "7. Write a function to demonstrate the behavior of mutable and immutable arguments."
      ],
      "metadata": {
        "id": "y-0aCoYaBVM-"
      }
    },
    {
      "cell_type": "code",
      "source": [
        "def demonstrate_mutability_immutability(mutable_arg, immutable_arg):\n",
        "    # Modifying the mutable argument (list)\n",
        "    mutable_arg.append(100)\n",
        "    print(\"Modified mutable argument (list):\", mutable_arg)\n",
        "\n",
        "    # Modifying the immutable argument (integer)\n",
        "    immutable_arg += 10\n",
        "    print(\"Modified immutable argument (integer):\", immutable_arg)\n",
        "\n",
        "# Testing with mutable and immutable arguments\n",
        "my_list = [1, 2, 3]\n",
        "my_int = 5\n",
        "\n",
        "print(\"Before calling the function:\")\n",
        "print(\"Original list:\", my_list)\n",
        "print(\"Original integer:\", my_int)\n",
        "\n",
        "demonstrate_mutability_immutability(my_list, my_int)\n",
        "\n",
        "print(\"\\nAfter calling the function:\")\n",
        "print(\"Modified list:\", my_list)  # List should be modified\n",
        "print(\"Original integer:\", my_int)  # Integer should remain the same\n"
      ],
      "metadata": {
        "colab": {
          "base_uri": "https://localhost:8080/"
        },
        "id": "J-aEIBBVBa13",
        "outputId": "e85e87ca-279c-4372-91db-793562123416"
      },
      "execution_count": 10,
      "outputs": [
        {
          "output_type": "stream",
          "name": "stdout",
          "text": [
            "Before calling the function:\n",
            "Original list: [1, 2, 3]\n",
            "Original integer: 5\n",
            "Modified mutable argument (list): [1, 2, 3, 100]\n",
            "Modified immutable argument (integer): 15\n",
            "\n",
            "After calling the function:\n",
            "Modified list: [1, 2, 3, 100]\n",
            "Original integer: 5\n"
          ]
        }
      ]
    },
    {
      "cell_type": "markdown",
      "source": [
        "8. Write a program to demonstrate the use of logical operators."
      ],
      "metadata": {
        "id": "N08vhHkuBou-"
      }
    },
    {
      "cell_type": "code",
      "source": [
        "# Sample variables\n",
        "x = 10\n",
        "y = 5\n",
        "z = 20\n",
        "\n",
        "# Using 'and' logical operator\n",
        "if x > y and z > x:\n",
        "    print(f\"Both conditions are true: x > y ({x > y}) and z > x ({z > x})\")\n",
        "\n",
        "# Using 'or' logical operator\n",
        "if x > y or z < y:\n",
        "    print(f\"At least one condition is true: x > y ({x > y}) or z < y ({z < y})\")\n",
        "\n",
        "# Using 'not' logical operator\n",
        "if not x < y:\n",
        "    print(f\"Condition is true because 'x < y' is false, and 'not' negates it.\")\n",
        "\n",
        "# Combining logical operators\n",
        "if x > y and (z > x or y == 5):\n",
        "    print(f\"Combined logical conditions: x > y ({x > y}) and (z > x or y == 5) ({z > x or y == 5})\")\n"
      ],
      "metadata": {
        "colab": {
          "base_uri": "https://localhost:8080/"
        },
        "id": "N1g6DDOHBt4l",
        "outputId": "248884f8-454a-430c-a432-7088c4a6904b"
      },
      "execution_count": 11,
      "outputs": [
        {
          "output_type": "stream",
          "name": "stdout",
          "text": [
            "Both conditions are true: x > y (True) and z > x (True)\n",
            "At least one condition is true: x > y (True) or z < y (False)\n",
            "Condition is true because 'x < y' is false, and 'not' negates it.\n",
            "Combined logical conditions: x > y (True) and (z > x or y == 5) (True)\n"
          ]
        }
      ]
    },
    {
      "cell_type": "markdown",
      "source": [
        "9. Write a Python program to convert user input from string to integer, float, and boolean types.\n"
      ],
      "metadata": {
        "id": "h5bh-6WuCFA-"
      }
    },
    {
      "cell_type": "code",
      "source": [
        "# Taking user input as a string\n",
        "user_input = input(\"Enter a value: \")\n",
        "\n",
        "# Converting to integer\n",
        "try:\n",
        "    int_value = int(user_input)\n",
        "    print(f\"The integer value is: {int_value}\")\n",
        "except ValueError:\n",
        "    print(\"Cannot convert to integer.\")\n",
        "\n",
        "# Converting to float\n",
        "try:\n",
        "    float_value = float(user_input)\n",
        "    print(f\"The float value is: {float_value}\")\n",
        "except ValueError:\n",
        "    print(\"Cannot convert to float.\")\n",
        "\n",
        "# Converting to boolean\n",
        "# Empty string or \"False\" (case-insensitive) is considered False\n",
        "# Any other non-empty string is considered True\n",
        "boolean_value = user_input.strip().lower() not in [\"\", \"false\"]\n",
        "print(f\"The boolean value is: {boolean_value}\")\n"
      ],
      "metadata": {
        "colab": {
          "base_uri": "https://localhost:8080/"
        },
        "id": "JXQ3f6j1C3kV",
        "outputId": "770679d6-7511-4140-8a2d-e70c0b72e6b2"
      },
      "execution_count": 14,
      "outputs": [
        {
          "output_type": "stream",
          "name": "stdout",
          "text": [
            "Enter a value: 123\n",
            "The integer value is: 123\n",
            "The float value is: 123.0\n",
            "The boolean value is: True\n"
          ]
        }
      ]
    },
    {
      "cell_type": "code",
      "source": [
        "# Taking user input as a string\n",
        "user_input = input(\"Enter a value: \")\n",
        "\n",
        "# Converting to integer\n",
        "try:\n",
        "    int_value = int(user_input)\n",
        "    print(f\"The integer value is: {int_value}\")\n",
        "except ValueError:\n",
        "    print(\"Cannot convert to integer.\")\n",
        "\n",
        "# Converting to float\n",
        "try:\n",
        "    float_value = float(user_input)\n",
        "    print(f\"The float value is: {float_value}\")\n",
        "except ValueError:\n",
        "    print(\"Cannot convert to float.\")\n",
        "\n",
        "# Converting to boolean\n",
        "# Empty string or \"False\" (case-insensitive) is considered False\n",
        "# Any other non-empty string is considered True\n",
        "boolean_value = user_input.strip().lower() not in [\"\", \"false\"]\n",
        "print(f\"The boolean value is: {boolean_value}\")\n"
      ],
      "metadata": {
        "colab": {
          "base_uri": "https://localhost:8080/"
        },
        "id": "crX8Z_wnDDCW",
        "outputId": "f281fb90-da76-43fa-c6ae-48d093eb0247"
      },
      "execution_count": 15,
      "outputs": [
        {
          "output_type": "stream",
          "name": "stdout",
          "text": [
            "Enter a value: 45.67\n",
            "Cannot convert to integer.\n",
            "The float value is: 45.67\n",
            "The boolean value is: True\n"
          ]
        }
      ]
    },
    {
      "cell_type": "code",
      "source": [
        "# Taking user input as a string\n",
        "user_input = input(\"Enter a value: \")\n",
        "\n",
        "# Converting to integer\n",
        "try:\n",
        "    int_value = int(user_input)\n",
        "    print(f\"The integer value is: {int_value}\")\n",
        "except ValueError:\n",
        "    print(\"Cannot convert to integer.\")\n",
        "\n",
        "# Converting to float\n",
        "try:\n",
        "    float_value = float(user_input)\n",
        "    print(f\"The float value is: {float_value}\")\n",
        "except ValueError:\n",
        "    print(\"Cannot convert to float.\")\n",
        "\n",
        "# Converting to boolean\n",
        "# Empty string or \"False\" (case-insensitive) is considered False\n",
        "# Any other non-empty string is considered True\n",
        "boolean_value = user_input.strip().lower() not in [\"\", \"false\"]\n",
        "print(f\"The boolean value is: {boolean_value}\")\n"
      ],
      "metadata": {
        "colab": {
          "base_uri": "https://localhost:8080/"
        },
        "id": "0YNDdpE9DJMW",
        "outputId": "56688eb3-2a1a-48c4-a9ef-ca284d807510"
      },
      "execution_count": 16,
      "outputs": [
        {
          "output_type": "stream",
          "name": "stdout",
          "text": [
            "Enter a value: hello\n",
            "Cannot convert to integer.\n",
            "Cannot convert to float.\n",
            "The boolean value is: True\n"
          ]
        }
      ]
    },
    {
      "cell_type": "code",
      "source": [
        "# Taking user input as a string\n",
        "user_input = input(\"Enter a value: \")\n",
        "\n",
        "# Converting to integer\n",
        "try:\n",
        "    int_value = int(user_input)\n",
        "    print(f\"The integer value is: {int_value}\")\n",
        "except ValueError:\n",
        "    print(\"Cannot convert to integer.\")\n",
        "\n",
        "# Converting to float\n",
        "try:\n",
        "    float_value = float(user_input)\n",
        "    print(f\"The float value is: {float_value}\")\n",
        "except ValueError:\n",
        "    print(\"Cannot convert to float.\")\n",
        "\n",
        "# Converting to boolean\n",
        "# Empty string or \"False\" (case-insensitive) is considered False\n",
        "# Any other non-empty string is considered True\n",
        "boolean_value = user_input.strip().lower() not in [\"\", \"false\"]\n",
        "print(f\"The boolean value is: {boolean_value}\")\n",
        "\n"
      ],
      "metadata": {
        "colab": {
          "base_uri": "https://localhost:8080/"
        },
        "id": "2oITTY01DOQW",
        "outputId": "af136a9a-49d6-4c12-8343-8f587c13ee25"
      },
      "execution_count": 17,
      "outputs": [
        {
          "output_type": "stream",
          "name": "stdout",
          "text": [
            "Enter a value: false\n",
            "Cannot convert to integer.\n",
            "Cannot convert to float.\n",
            "The boolean value is: False\n"
          ]
        }
      ]
    },
    {
      "cell_type": "markdown",
      "source": [
        "10. Write code to demonstrate type casting with list elements."
      ],
      "metadata": {
        "id": "l74XTb42DXdl"
      }
    },
    {
      "cell_type": "code",
      "source": [
        "# Original list with string elements\n",
        "string_list = [\"10\", \"3.14\", \"True\", \"False\", \"50\", \"hello\", \"0\"]\n",
        "\n",
        "print(\"Original list:\", string_list)\n",
        "\n",
        "# 1. Convert to Integer: We'll try to cast each element to an integer.\n",
        "int_list = []\n",
        "for item in string_list:\n",
        "    try:\n",
        "        int_list.append(int(item))  # Try converting each string to an integer\n",
        "    except ValueError:\n",
        "        int_list.append(None)  # If it fails, append None\n",
        "print(\"List with integer values:\", int_list)\n",
        "\n",
        "# 2. Convert to Float: Try to cast each element to a float\n",
        "float_list = []\n",
        "for item in string_list:\n",
        "    try:\n",
        "        float_list.append(float(item))  # Try converting each string to a float\n",
        "    except ValueError:\n",
        "        float_list.append(None)  # If it fails, append None\n",
        "print(\"List with float values:\", float_list)\n",
        "\n",
        "# 3. Convert to Boolean: We handle \"True\" and \"False\" as boolean values.\n",
        "bool_list = []\n",
        "for item in string_list:\n",
        "    if item.lower() == \"true\":\n",
        "        bool_list.append(True)\n",
        "    elif item.lower() == \"false\":\n",
        "        bool_list.append(False)\n",
        "    else:\n",
        "        # Any other non-empty string will be considered True, empty string will be False\n",
        "        bool_list.append(bool(item))\n",
        "print(\"List with boolean values:\", bool_list)\n",
        "\n",
        "# 4. Mixed Type Casting (Try casting each element to integer, float, or boolean)\n",
        "mixed_cast_list = []\n",
        "for item in string_list:\n",
        "    # Attempt integer conversion first\n",
        "    try:\n",
        "        mixed_cast_list.append(int(item))\n",
        "    except ValueError:\n",
        "        # If integer conversion fails, attempt float conversion\n",
        "        try:\n",
        "            mixed_cast_list.append(float(item))\n",
        "        except ValueError:\n",
        "            # If both integer and float conversions fail, attempt boolean conversion\n",
        "            if item.lower() == \"true\":\n",
        "                mixed_cast_list.append(True)\n",
        "            elif item.lower() == \"false\":\n",
        "                mixed_cast_list.append(False)\n",
        "            else:\n",
        "                mixed_cast_list.append(None)  # For non-numeric, non-boolean strings, append None\n",
        "print(\"List with mixed type casting:\", mixed_cast_list)\n"
      ],
      "metadata": {
        "colab": {
          "base_uri": "https://localhost:8080/"
        },
        "id": "gUt52GXfEDUU",
        "outputId": "56255dc7-f3aa-4fcc-a7e6-06e032a5ee5a"
      },
      "execution_count": 20,
      "outputs": [
        {
          "output_type": "stream",
          "name": "stdout",
          "text": [
            "Original list: ['10', '3.14', 'True', 'False', '50', 'hello', '0']\n",
            "List with integer values: [10, None, None, None, 50, None, 0]\n",
            "List with float values: [10.0, 3.14, None, None, 50.0, None, 0.0]\n",
            "List with boolean values: [True, True, True, False, True, True, True]\n",
            "List with mixed type casting: [10, 3.14, True, False, 50, None, 0]\n"
          ]
        }
      ]
    },
    {
      "cell_type": "markdown",
      "source": [
        "11. Write a program that checks if a number is positive, negative, or zero."
      ],
      "metadata": {
        "id": "EtFyBgGhEQht"
      }
    },
    {
      "cell_type": "code",
      "source": [
        "# Taking user input\n",
        "number = float(input(\"Enter a number: \"))\n",
        "\n",
        "# Checking if the number is positive, negative, or zero\n",
        "if number > 0:\n",
        "    print(\"The number is positive.\")\n",
        "elif number < 0:\n",
        "    print(\"The number is negative.\")\n",
        "else:\n",
        "    print(\"The number is zero.\")\n",
        "\n"
      ],
      "metadata": {
        "colab": {
          "base_uri": "https://localhost:8080/"
        },
        "id": "fVrppqzYEVN1",
        "outputId": "11423b31-167c-4846-9bd5-4487716bad3e"
      },
      "execution_count": 21,
      "outputs": [
        {
          "output_type": "stream",
          "name": "stdout",
          "text": [
            "Enter a number: 5\n",
            "The number is positive.\n"
          ]
        }
      ]
    },
    {
      "cell_type": "code",
      "source": [
        "# Taking user input\n",
        "number = float(input(\"Enter a number: \"))\n",
        "\n",
        "# Checking if the number is positive, negative, or zero\n",
        "if number > 0:\n",
        "    print(\"The number is positive.\")\n",
        "elif number < 0:\n",
        "    print(\"The number is negative.\")\n",
        "else:\n",
        "    print(\"The number is zero.\")\n",
        "\n"
      ],
      "metadata": {
        "colab": {
          "base_uri": "https://localhost:8080/"
        },
        "id": "Q7-3EZnrEfE9",
        "outputId": "ca0dc330-829e-4057-a459-3e3085bb4bf0"
      },
      "execution_count": 22,
      "outputs": [
        {
          "output_type": "stream",
          "name": "stdout",
          "text": [
            "Enter a number: -3.2\n",
            "The number is negative.\n"
          ]
        }
      ]
    },
    {
      "cell_type": "code",
      "source": [
        "# Taking user input\n",
        "number = float(input(\"Enter a number: \"))\n",
        "\n",
        "# Checking if the number is positive, negative, or zero\n",
        "if number > 0:\n",
        "    print(\"The number is positive.\")\n",
        "elif number < 0:\n",
        "    print(\"The number is negative.\")\n",
        "else:\n",
        "    print(\"The number is zero.\")\n"
      ],
      "metadata": {
        "colab": {
          "base_uri": "https://localhost:8080/"
        },
        "id": "G9H2MraIEjPd",
        "outputId": "d8420ef9-8a48-4704-f7e5-286ead47d595"
      },
      "execution_count": 23,
      "outputs": [
        {
          "output_type": "stream",
          "name": "stdout",
          "text": [
            "Enter a number: 0\n",
            "The number is zero.\n"
          ]
        }
      ]
    },
    {
      "cell_type": "markdown",
      "source": [
        "12.  Write a for loop to print numbers from 1 to 100."
      ],
      "metadata": {
        "id": "fPcEYPQyEm0e"
      }
    },
    {
      "cell_type": "code",
      "source": [
        "# Using a for loop to print numbers from 1 to 100\n",
        "for number in range(1, 101):\n",
        "    print(number)\n"
      ],
      "metadata": {
        "colab": {
          "base_uri": "https://localhost:8080/"
        },
        "id": "GGcnscweEvd-",
        "outputId": "939a39e3-dcb1-4105-8534-a8781d53229a"
      },
      "execution_count": 24,
      "outputs": [
        {
          "output_type": "stream",
          "name": "stdout",
          "text": [
            "1\n",
            "2\n",
            "3\n",
            "4\n",
            "5\n",
            "6\n",
            "7\n",
            "8\n",
            "9\n",
            "10\n",
            "11\n",
            "12\n",
            "13\n",
            "14\n",
            "15\n",
            "16\n",
            "17\n",
            "18\n",
            "19\n",
            "20\n",
            "21\n",
            "22\n",
            "23\n",
            "24\n",
            "25\n",
            "26\n",
            "27\n",
            "28\n",
            "29\n",
            "30\n",
            "31\n",
            "32\n",
            "33\n",
            "34\n",
            "35\n",
            "36\n",
            "37\n",
            "38\n",
            "39\n",
            "40\n",
            "41\n",
            "42\n",
            "43\n",
            "44\n",
            "45\n",
            "46\n",
            "47\n",
            "48\n",
            "49\n",
            "50\n",
            "51\n",
            "52\n",
            "53\n",
            "54\n",
            "55\n",
            "56\n",
            "57\n",
            "58\n",
            "59\n",
            "60\n",
            "61\n",
            "62\n",
            "63\n",
            "64\n",
            "65\n",
            "66\n",
            "67\n",
            "68\n",
            "69\n",
            "70\n",
            "71\n",
            "72\n",
            "73\n",
            "74\n",
            "75\n",
            "76\n",
            "77\n",
            "78\n",
            "79\n",
            "80\n",
            "81\n",
            "82\n",
            "83\n",
            "84\n",
            "85\n",
            "86\n",
            "87\n",
            "88\n",
            "89\n",
            "90\n",
            "91\n",
            "92\n",
            "93\n",
            "94\n",
            "95\n",
            "96\n",
            "97\n",
            "98\n",
            "99\n",
            "100\n"
          ]
        }
      ]
    },
    {
      "cell_type": "markdown",
      "source": [
        "13. Write a Python program to find the sum of all even numbers between 1 and 500\n"
      ],
      "metadata": {
        "id": "8xOdE5afE2vd"
      }
    },
    {
      "cell_type": "code",
      "source": [
        "# Initialize the sum variable\n",
        "sum_even = 0\n",
        "\n",
        "# Loop through numbers from 1 to 500\n",
        "for number in range(2, 501, 2):  # Starting from 2 and step by 2 (even numbers)\n",
        "    sum_even += number  # Add the current even number to the sum\n",
        "\n",
        "# Print the result\n",
        "print(\"The sum of all even numbers between 1 and 500 is:\", sum_even)\n"
      ],
      "metadata": {
        "colab": {
          "base_uri": "https://localhost:8080/"
        },
        "id": "g9zgqRc-E4mN",
        "outputId": "2122ac3f-c45a-4b20-a51d-71675fa47e5f"
      },
      "execution_count": 25,
      "outputs": [
        {
          "output_type": "stream",
          "name": "stdout",
          "text": [
            "The sum of all even numbers between 1 and 500 is: 62750\n"
          ]
        }
      ]
    },
    {
      "cell_type": "markdown",
      "source": [
        "14. Write a program to reverse a string using a while loop."
      ],
      "metadata": {
        "id": "26L-MtOBE9_l"
      }
    },
    {
      "cell_type": "code",
      "source": [
        "# Taking user input for the string\n",
        "string = input(\"Enter a string: \")\n",
        "\n",
        "# Initialize variables\n",
        "reversed_string = \"\"\n",
        "index = len(string) - 1  # Set index to the last character of the string\n",
        "\n",
        "# Use a while loop to reverse the string\n",
        "while index >= 0:\n",
        "    reversed_string += string[index]  # Add the current character to the reversed string\n",
        "    index -= 1  # Decrement the index\n",
        "\n",
        "# Print the reversed string\n",
        "print(\"Reversed string:\", reversed_string)\n",
        "\n"
      ],
      "metadata": {
        "colab": {
          "base_uri": "https://localhost:8080/"
        },
        "id": "iwz5PSUWFCKb",
        "outputId": "aac30eef-374e-4a81-bf5e-fa54af3bfc3c"
      },
      "execution_count": 26,
      "outputs": [
        {
          "output_type": "stream",
          "name": "stdout",
          "text": [
            "Enter a string: hello\n",
            "Reversed string: olleh\n"
          ]
        }
      ]
    },
    {
      "cell_type": "code",
      "source": [
        "# Taking user input for the string\n",
        "string = input(\"Enter a string: \")\n",
        "\n",
        "# Initialize variables\n",
        "reversed_string = \"\"\n",
        "index = len(string) - 1  # Set index to the last character of the string\n",
        "\n",
        "# Use a while loop to reverse the string\n",
        "while index >= 0:\n",
        "    reversed_string += string[index]  # Add the current character to the reversed string\n",
        "    index -= 1  # Decrement the index\n",
        "\n",
        "# Print the reversed string\n",
        "print(\"Reversed string:\", reversed_string)\n"
      ],
      "metadata": {
        "colab": {
          "base_uri": "https://localhost:8080/"
        },
        "id": "7NqI4eNmFLww",
        "outputId": "340bb90c-7cc4-4ba5-9239-00b94f4f7cfa"
      },
      "execution_count": 27,
      "outputs": [
        {
          "output_type": "stream",
          "name": "stdout",
          "text": [
            "Enter a string: python\n",
            "Reversed string: nohtyp\n"
          ]
        }
      ]
    },
    {
      "cell_type": "markdown",
      "source": [
        "15. Write a Python program to calculate the factorial of a number provided by the user using a while loop."
      ],
      "metadata": {
        "id": "hIISF4CJFRyt"
      }
    },
    {
      "cell_type": "code",
      "source": [
        "# Taking user input for the number\n",
        "num = int(input(\"Enter a number: \"))\n",
        "\n",
        "# Initialize the result to 1 (since factorial of 0 is 1, and we multiply by the numbers)\n",
        "factorial = 1\n",
        "\n",
        "# Check if the number is negative\n",
        "if num < 0:\n",
        "    print(\"Factorial does not exist for negative numbers\")\n",
        "else:\n",
        "    # Calculate the factorial using a while loop\n",
        "    while num > 1:\n",
        "        factorial *= num  # Multiply the current factorial by the current number\n",
        "        num -= 1  # Decrease the number by 1\n",
        "\n",
        "    # Print the result\n",
        "    print(\"The factorial is:\", factorial)\n"
      ],
      "metadata": {
        "colab": {
          "base_uri": "https://localhost:8080/"
        },
        "id": "D1PehUnXFWve",
        "outputId": "9b6b02ab-c1e5-4c26-cea4-40a0502e800d"
      },
      "execution_count": 29,
      "outputs": [
        {
          "output_type": "stream",
          "name": "stdout",
          "text": [
            "Enter a number: 5\n",
            "The factorial is: 120\n"
          ]
        }
      ]
    },
    {
      "cell_type": "code",
      "source": [
        "# Taking user input for the number\n",
        "num = int(input(\"Enter a number: \"))\n",
        "\n",
        "# Initialize the result to 1 (since factorial of 0 is 1, and we multiply by the numbers)\n",
        "factorial = 1\n",
        "\n",
        "# Check if the number is negative\n",
        "if num < 0:\n",
        "    print(\"Factorial does not exist for negative numbers\")\n",
        "else:\n",
        "    # Calculate the factorial using a while loop\n",
        "    while num > 1:\n",
        "        factorial *= num  # Multiply the current factorial by the current number\n",
        "        num -= 1  # Decrease the number by 1\n",
        "\n",
        "    # Print the result\n",
        "    print(\"The factorial is:\", factorial)\n"
      ],
      "metadata": {
        "colab": {
          "base_uri": "https://localhost:8080/"
        },
        "id": "1LxOuQLNFlft",
        "outputId": "0405e659-9261-4b0f-b866-b41c506dd458"
      },
      "execution_count": 30,
      "outputs": [
        {
          "output_type": "stream",
          "name": "stdout",
          "text": [
            "Enter a number: 0\n",
            "The factorial is: 1\n"
          ]
        }
      ]
    },
    {
      "cell_type": "code",
      "source": [
        "# Taking user input for the number\n",
        "num = int(input(\"Enter a number: \"))\n",
        "\n",
        "# Initialize the result to 1 (since factorial of 0 is 1, and we multiply by the numbers)\n",
        "factorial = 1\n",
        "\n",
        "# Check if the number is negative\n",
        "if num < 0:\n",
        "    print(\"Factorial does not exist for negative numbers\")\n",
        "else:\n",
        "    # Calculate the factorial using a while loop\n",
        "    while num > 1:\n",
        "        factorial *= num  # Multiply the current factorial by the current number\n",
        "        num -= 1  # Decrease the number by 1\n",
        "\n",
        "    # Print the result\n",
        "    print(\"The factorial is:\", factorial)\n"
      ],
      "metadata": {
        "colab": {
          "base_uri": "https://localhost:8080/"
        },
        "id": "4CsxVtfgFn2g",
        "outputId": "41353686-0d21-417c-e5a0-615b3ddf2898"
      },
      "execution_count": 31,
      "outputs": [
        {
          "output_type": "stream",
          "name": "stdout",
          "text": [
            "Enter a number: -3\n",
            "Factorial does not exist for negative numbers\n"
          ]
        }
      ]
    }
  ]
}